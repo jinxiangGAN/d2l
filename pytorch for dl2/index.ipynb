{
 "cells": [
  {
   "cell_type": "markdown",
   "id": "8e709cee",
   "metadata": {
    "origin_pos": 0
   },
   "source": [
    "《动手学深度学习》\n",
    "========================\n",
    "\n",
    "```eval_rst\n",
    ".. raw:: html\n",
    "   :file: frontpage.html\n",
    "```\n",
    "\n",
    ":begin_tab:toc\n",
    " - [chapter0_preface/index](chapter0_preface/index.ipynb)\n",
    " - [chapter0_installation/index](chapter0_installation/index.ipynb)\n",
    " - [chapter0_notation/index](chapter0_notation/index.ipynb)\n",
    ":end_tab:\n",
    "\n",
    ":begin_tab:toc\n",
    " - [chapter1_introduction/index](chapter1_introduction/index.ipynb)\n",
    " - [chapter2_preliminaries/index](chapter2_preliminaries/index.ipynb)\n",
    " - [chapter3_linear-networks/index](chapter3_linear-networks/index.ipynb)\n",
    " - [chapter4_multilayer-perceptrons/index](chapter4_multilayer-perceptrons/index.ipynb)\n",
    " - [chapter5_deep-learning-computation/index](chapter5_deep-learning-computation/index.ipynb)\n",
    " - [chapter6_convolutional-neural-networks/index](chapter6_convolutional-neural-networks/index.ipynb)\n",
    " - [chapter7_convolutional-modern/index](chapter7_convolutional-modern/index.ipynb)\n",
    " - [chapter8_recurrent-neural-networks/index](chapter8_recurrent-neural-networks/index.ipynb)\n",
    " - [chapter9_recurrent-modern/index](chapter9_recurrent-modern/index.ipynb)\n",
    " - [chapter10_attention-mechanisms/index](chapter10_attention-mechanisms/index.ipynb)\n",
    " - [chapter11_optimization/index](chapter11_optimization/index.ipynb)\n",
    " - [chapter12_computational-performance/index](chapter12_computational-performance/index.ipynb)\n",
    " - [chapter13_computer-vision/index](chapter13_computer-vision/index.ipynb)\n",
    " - [chapter14_natural-language-processing-pretraining/index](chapter14_natural-language-processing-pretraining/index.ipynb)\n",
    " - [chapter15_natural-language-processing-applications/index](chapter15_natural-language-processing-applications/index.ipynb)\n",
    " - [chapter16_appendix-tools-for-deep-learning/index](chapter16_appendix-tools-for-deep-learning/index.ipynb)\n",
    ":end_tab:\n",
    "\n",
    ":begin_tab:toc\n",
    " - [chapter17_references/zreferences](chapter17_references/zreferences.ipynb)\n",
    ":end_tab:\n"
   ]
  }
 ],
 "metadata": {
  "kernelspec": {
   "display_name": "Python 3 (ipykernel)",
   "language": "python",
   "name": "python3"
  },
  "language_info": {
   "codemirror_mode": {
    "name": "ipython",
    "version": 3
   },
   "file_extension": ".py",
   "mimetype": "text/x-python",
   "name": "python",
   "nbconvert_exporter": "python",
   "pygments_lexer": "ipython3",
   "version": "3.9.16"
  }
 },
 "nbformat": 4,
 "nbformat_minor": 5
}
